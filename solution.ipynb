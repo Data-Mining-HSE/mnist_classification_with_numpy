{
 "cells": [
  {
   "cell_type": "code",
   "execution_count": 1,
   "metadata": {},
   "outputs": [],
   "source": [
    "import numpy as np\n",
    "import pandas as pd\n",
    "from sklearn.model_selection import train_test_split\n",
    "from src.preprocessing import preprocess\n",
    "from nn.model import NeuralNetwork\n",
    "from nn.learning_policies.circular_lr import CircularLR\n"
   ]
  },
  {
   "cell_type": "code",
   "execution_count": 2,
   "metadata": {},
   "outputs": [],
   "source": [
    "train = pd.read_csv('data/mnist_train.csv')\n",
    "val = pd.read_csv('data/mnist_test.csv')\n",
    "\n",
    "X_val, y_val = preprocess(val)\n",
    "X_train, y_train = preprocess(train)\n",
    "\n",
    "X_train, X_test, y_train, y_test = train_test_split(X_train, y_train, test_size=0.2, shuffle=True)\n",
    "X_train, X_test, X_val, y_train, y_test, y_val = np.array(X_train), np.array(X_test), np.array(X_val), np.array(y_train),np.array(y_test),np.array(y_val)"
   ]
  },
  {
   "cell_type": "code",
   "execution_count": 3,
   "metadata": {},
   "outputs": [
    {
     "name": "stdout",
     "output_type": "stream",
     "text": [
      "Epoch [1/5], Training loss: 0.13 Val acc 0.78\n",
      "Epoch [2/5], Training loss: 0.11 Val acc 0.83\n",
      "Epoch [3/5], Training loss: 0.083 Val acc 0.84\n",
      "Epoch [4/5], Training loss: 0.076 Val acc 0.85\n",
      "Epoch [5/5], Training loss: 0.076 Val acc 0.86\n"
     ]
    }
   ],
   "source": [
    "# Neural network parameters\n",
    "input_size = X_train.shape[1]\n",
    "hidden_size = 128\n",
    "output_size = 10\n",
    "epochs = 5\n",
    "batch_size = 64\n",
    "\n",
    "\n",
    "initial_learning_rate = 0.01\n",
    "max_learning_rate = 0.01\n",
    "step_size = 1\n",
    "\n",
    "# Create a Neural Network\n",
    "model = NeuralNetwork(input_size, hidden_size, output_size)\n",
    "learning_rate_scheduler = CircularLR(initial_learning_rate, max_learning_rate, step_size)\n",
    "\n",
    "# Training loop\n",
    "for epoch in range(epochs):\n",
    "    for i in range(0, len(X_train), batch_size):\n",
    "        # Mini-batch\n",
    "        X_batch = X_train[i:i+batch_size]\n",
    "        y_batch = y_train[i:i+batch_size]\n",
    "\n",
    "        # Forward pass\n",
    "        output = model.forward(X_batch)\n",
    "\n",
    "        # Compute MSE\n",
    "        loss = np.mean(0.5 * np.sum((output - y_batch) ** 2, axis=1))\n",
    "\n",
    "        # Backward pass\n",
    "        grad_output = output - y_batch\n",
    "        model.backward(grad_output)\n",
    "\n",
    "        learning_rate = learning_rate_scheduler.update_learning_rate()\n",
    "\n",
    "        # Update weights and biases using gradient descent\n",
    "        model.linear1.weights -= learning_rate * model.linear1.grad_weights / X_batch.shape[0]\n",
    "        model.linear1.biases -= learning_rate * model.linear1.grad_biases / X_batch.shape[0]\n",
    "        model.linear2.weights -= learning_rate * model.linear2.grad_weights / X_batch.shape[0]\n",
    "        model.linear2.biases -= learning_rate * model.linear2.grad_biases / X_batch.shape[0]\n",
    "\n",
    "    # Print loss for each epoch\n",
    "    print(f'Epoch [{epoch + 1}/{epochs}], Training loss: {loss:.2} Val acc {model.get_accuracy(X_val, y_val):.2}')\n"
   ]
  }
 ],
 "metadata": {
  "kernelspec": {
   "display_name": "venv",
   "language": "python",
   "name": "python3"
  },
  "language_info": {
   "codemirror_mode": {
    "name": "ipython",
    "version": 3
   },
   "file_extension": ".py",
   "mimetype": "text/x-python",
   "name": "python",
   "nbconvert_exporter": "python",
   "pygments_lexer": "ipython3",
   "version": "3.11.6"
  }
 },
 "nbformat": 4,
 "nbformat_minor": 2
}
